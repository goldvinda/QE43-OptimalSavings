{
 "cells": [
  {
   "attachments": {},
   "cell_type": "markdown",
   "metadata": {},
   "source": [
    "We first need to make some imports."
   ]
  },
  {
   "cell_type": "code",
   "execution_count": 1,
   "metadata": {},
   "outputs": [],
   "source": [
    "import matplotlib.pyplot as plt\n",
    "import numpy as np"
   ]
  },
  {
   "attachments": {},
   "cell_type": "markdown",
   "metadata": {},
   "source": [
    "## The Model\n",
    "\n",
    "We consider an infinite time horizon $ t=0, 1, 2, 3.. $ At $ t=0 $ the agent is given a complete cake with size $ \\bar x $. Let $ x_t $ denote the size of the cake at the beginning of each period,\n",
    "so that, in particular, $ x_0=\\bar x $. We choose how much of the cake to eat in any given period $ t $. After choosing to consume $ c_t $ of the cake in period $ t $ there is\n",
    "\n",
    "$$\n",
    "x_{t+1} = x_t - c_t\n",
    "$$\n",
    "\n",
    "left in period $ t+1 $. Consuming quantity $ c $ of the cake gives current utility $ u(c) $. We adopt the CRRA utility function\n",
    "\n",
    "<a id='equation-crra-utility'></a>\n",
    "$$\n",
    "u(c) = \\frac{c^{1-\\gamma}}{1-\\gamma} \\qquad (\\gamma \\gt 0, \\, \\gamma \\neq 1) \\tag{43.1}\n",
    "$$\n",
    "\n",
    "In Python this is"
   ]
  },
  {
   "cell_type": "code",
   "execution_count": 2,
   "metadata": {},
   "outputs": [],
   "source": [
    "def u(c, gamma):\n",
    "\n",
    "    return c**(1 - gamma) / (1 - gamma)"
   ]
  },
  {
   "attachments": {},
   "cell_type": "markdown",
   "metadata": {},
   "source": [
    "Future cake consumption utility is discounted according to $ \\beta\\in(0, 1) $. In particular, consumption of $ c $ units $ t $ periods hence has present value $ \\beta^t u(c) $ The agent’s problem can be written as\n",
    "\n",
    "\n",
    "<a id='equation-cake-objective'></a>\n",
    "$$\n",
    "\\max_{\\{c_t\\}} \\sum_{t=0}^\\infty \\beta^t u(c_t) \\tag{43.2}\n",
    "$$\n",
    "\n",
    "subject to\n",
    "\n",
    "\n",
    "<a id='equation-cake-feasible'></a>\n",
    "$$\n",
    "x_{t+1} = x_t - c_t\n",
    "\\quad \\text{and} \\quad\n",
    "0\\leq c_t\\leq x_t \\tag{43.3}\n",
    "$$\n",
    "\n",
    "for all $ t $.\n",
    "\n",
    "A consumption path $ \\{c_t\\} $ satisfying [(43.3)](#equation-cake-feasible) where\n",
    "$ x_0 = \\bar x $ is called **feasible**.\n",
    "\n",
    "In this problem, the following terminology is standard: $ x_t $ is called the **state variable** $ c_t $ is called the **control variable** or the **action** $ \\beta $ and $ \\gamma $ are **parameters**  "
   ]
  },
  {
   "attachments": {},
   "cell_type": "markdown",
   "metadata": {},
   "source": [
    "### Trade-Off\n",
    "\n",
    "The key trade-off in the cake-eating problem is this:\n",
    "\n",
    "- Delaying consumption is costly because of the discount factor.  \n",
    "- But delaying some consumption is also attractive because $ u $ is concave.  \n",
    "\n",
    "\n",
    "The concavity of $ u $ implies that the consumer gains value from\n",
    "*consumption smoothing*, which means spreading consumption out over time.\n",
    "\n",
    "This is because concavity implies diminishing marginal utility—a progressively smaller gain in utility for each additional spoonful of cake consumed within one period."
   ]
  },
  {
   "attachments": {},
   "cell_type": "markdown",
   "metadata": {},
   "source": [
    "## The Value Function\n",
    "\n",
    "The first step of our dynamic programming treatment is to obtain the Bellman\n",
    "equation.\n",
    "\n",
    "The next step is to use it to calculate the solution."
   ]
  },
  {
   "attachments": {},
   "cell_type": "markdown",
   "metadata": {},
   "source": [
    "### The Bellman Equation\n",
    "\n",
    "To this end, we let $ v(x) $ be maximum lifetime utility attainable from\n",
    "the current time when $ x $ units of cake are left.\n",
    "\n",
    "That is,\n",
    "\n",
    "\n",
    "<a id='equation-value-fun'></a>\n",
    "$$\n",
    "v(x) = \\max \\sum_{t=0}^{\\infty} \\beta^t u(c_t) \\tag{43.4}\n",
    "$$\n",
    "\n",
    "where the maximization is over all paths $ \\{ c_t \\} $ that are feasible\n",
    "from $ x_0 = x $.\n",
    "\n",
    "At this point, we do not have an expression for $ v $, but we can still\n",
    "make inferences about it.\n",
    "\n",
    "For example, as was the case with the [McCall model](https://python.quantecon.org/mccall_model.html), the\n",
    "value function will satisfy a version of the *Bellman equation*.\n",
    "\n",
    "In the present case, this equation states that $ v $ satisfies\n",
    "\n",
    "\n",
    "<a id='equation-bellman-cep'></a>\n",
    "$$\n",
    "v(x) = \\max_{0\\leq c \\leq x} \\{u(c) + \\beta v(x-c)\\}\n",
    "\\quad \\text{for any given } x \\geq 0. \\tag{43.5}\n",
    "$$\n",
    "\n",
    "The intuition here is essentially the same it was for the McCall model.\n",
    "\n",
    "Choosing $ c $ optimally means trading off current vs future rewards.\n",
    "\n",
    "Current rewards from choice $ c $ are just $ u(c) $.\n",
    "\n",
    "Future rewards given current cake size $ x $, measured from next period and\n",
    "assuming optimal behavior, are $ v(x-c) $.\n",
    "\n",
    "These are the two terms on the right hand side of [(43.5)](#equation-bellman-cep), after\n",
    "suitable discounting.\n",
    "\n",
    "If $ c $ is chosen optimally using this trade off strategy, then we obtain maximal lifetime rewards from our current state $ x $.\n",
    "\n",
    "Hence, $ v(x) $ equals the right hand side of [(43.5)](#equation-bellman-cep), as claimed."
   ]
  },
  {
   "attachments": {},
   "cell_type": "markdown",
   "metadata": {},
   "source": [
    "### An Analytical Solution\n",
    "\n",
    "It has been shown that, with $ u $ as the CRRA utility function in\n",
    "[(43.1)](#equation-crra-utility), the function\n",
    "\n",
    "\n",
    "<a id='equation-crra-vstar'></a>\n",
    "$$\n",
    "v^*(x_t) = \\left( 1-\\beta^{1/\\gamma} \\right)^{-\\gamma}u(x_t) \\tag{43.6}\n",
    "$$\n",
    "\n",
    "solves the Bellman equation and hence is equal to the value function.\n",
    "\n",
    "You are asked to confirm that this is true in the exercises below.\n",
    "\n",
    "The solution [(43.6)](#equation-crra-vstar) depends heavily on the CRRA utility function.\n",
    "\n",
    "In fact, if we move away from CRRA utility, usually there is no analytical\n",
    "solution at all.\n",
    "\n",
    "In other words, beyond CRRA utility, we know that the value function still\n",
    "satisfies the Bellman equation, but we do not have a way of writing it\n",
    "explicitly, as a function of the state variable and the parameters.\n",
    "\n",
    "We will deal with that situation numerically when the time comes.\n",
    "\n",
    "Here is a Python representation of the value function:"
   ]
  },
  {
   "cell_type": "code",
   "execution_count": 3,
   "metadata": {},
   "outputs": [],
   "source": [
    "def v_star(c,beta,gamma):\n",
    "    return (1-beta**(1/gamma)**(-gamma)*u(c,gamma))"
   ]
  },
  {
   "attachments": {},
   "cell_type": "markdown",
   "metadata": {},
   "source": [
    "Plots..."
   ]
  },
  {
   "cell_type": "code",
   "execution_count": 11,
   "metadata": {},
   "outputs": [
    {
     "data": {
      "image/png": "[encoded data removed]",
      "text/plain": [
       "<Figure size 640x480 with 1 Axes>"
      ]
     },
     "metadata": {},
     "output_type": "display_data"
    }
   ],
   "source": [
    "beta, gamma = 0.95, 1.2\n",
    "x_grid = np.linspace(0.1,5,100) #This is like the kgrid from Adams lecture. Initial final and step\n",
    "\n",
    "fig, ax = plt.subplots()\n",
    "\n",
    "ax.plot(x_grid, v_star(x_grid,beta,gamma),label=\"$v^*(x)$\")\n",
    "ax.set_xlabel(\"$x$\", fontsize=12)\n",
    "ax.set_ylabel(\"$v^*(x)$\", fontsize=12)\n",
    "ax.legend(fontsize=12)\n",
    "\n",
    "plt.show()"
   ]
  },
  {
   "attachments": {},
   "cell_type": "markdown",
   "metadata": {},
   "source": [
    "## The Optimal Policy\n",
    "\n",
    "Now that we have the value function, it is straightforward to calculate the\n",
    "optimal action at each state.\n",
    "\n",
    "We should choose consumption to maximize the\n",
    "right hand side of the Bellman equation [(43.5)](#equation-bellman-cep).\n",
    "\n",
    "$$\n",
    "c^* = \\arg \\max_{c} \\{u(c) + \\beta v(x - c)\\}\n",
    "$$\n",
    "\n",
    "We can think of this optimal choice as a function of the state $ x $, in\n",
    "which case we call it the **optimal policy**.\n",
    "\n",
    "We denote the optimal policy by $ \\sigma^* $, so that\n",
    "\n",
    "$$\n",
    "\\sigma^*(x) := \\arg \\max_{c} \\{u(c) + \\beta v(x - c)\\}\n",
    "\\quad \\text{for all } x\n",
    "$$\n",
    "\n",
    "If we plug the analytical expression [(43.6)](#equation-crra-vstar) for the value function\n",
    "into the right hand side and compute the optimum, we find that\n",
    "\n",
    "\n",
    "<a id='equation-crra-opt-pol'></a>\n",
    "$$\n",
    "\\sigma^*(x) = \\left( 1-\\beta^{1/\\gamma} \\right) x \\tag{43.7}\n",
    "$$\n",
    "\n",
    "Now let’s recall our intuition on the impact of parameters.\n",
    "\n",
    "We guessed that the consumption rate would be decreasing in both parameters.\n",
    "\n",
    "This is in fact the case, as can be seen from [(43.7)](#equation-crra-opt-pol).\n",
    "\n",
    "Here’s some plots that illustrate."
   ]
  }
 ],
 "metadata": {
  "kernelspec": {
   "display_name": "base",
   "language": "python",
   "name": "python3"
  },
  "language_info": {
   "codemirror_mode": {
    "name": "ipython",
    "version": 3
   },
   "file_extension": ".py",
   "mimetype": "text/x-python",
   "name": "python",
   "nbconvert_exporter": "python",
   "pygments_lexer": "ipython3",
   "version": "3.9.13"
  },
  "orig_nbformat": 4
 },
 "nbformat": 4,
 "nbformat_minor": 2
}
